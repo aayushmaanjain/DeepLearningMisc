{
 "cells": [
  {
   "cell_type": "code",
   "execution_count": 20,
   "metadata": {},
   "outputs": [
    {
     "name": "stdout",
     "output_type": "stream",
     "text": [
      "104\n"
     ]
    }
   ],
   "source": [
    "logfile = 'logs/cudnn1.log'\n",
    "\n",
    "blocks = []\n",
    "with open(logfile, 'r') as logfile:\n",
    "    while(True):\n",
    "        line = logfile.readline()\n",
    "        if not line:\n",
    "            break\n",
    "        # do stuff\n",
    "        if 'cudnnConvolutionForward()' in line:\n",
    "            block = line\n",
    "            line = logfile.readline()\n",
    "            while(line.strip()):\n",
    "                block += line\n",
    "                line = logfile.readline()\n",
    "            blocks.append(block)\n",
    "print(len(blocks))"
   ]
  },
  {
   "cell_type": "code",
   "execution_count": 21,
   "metadata": {},
   "outputs": [
    {
     "name": "stdout",
     "output_type": "stream",
     "text": [
      "104\n"
     ]
    }
   ],
   "source": [
    "import re\n",
    "\n",
    "convsInfo = []\n",
    "for i, block in enumerate(blocks):\n",
    "    conv = {}\n",
    "    \n",
    "    lines = block.split('\\n')\n",
    "    \n",
    "    ## INPUT INFORMATION\n",
    "    xDescLine = [x for x in range(len(lines)) if 'xDesc' in lines[x]]\n",
    "    assert len(xDescLine) == 1, \"multiple 'xDesc' in block:{}\".format(i+1)\n",
    "    xDescLine = xDescLine[0]\n",
    "    \n",
    "    xPattern = re.compile(r'i!\\s+dimA: type=int; val=\\[(?P<n>\\d+),(?P<c>\\d+),(?P<h>\\d+),(?P<w>\\d+)\\];')\n",
    "    # Note: input information is in the 3rd line after xDesc key\n",
    "    xInfo = xPattern.match(lines[xDescLine + 3])\n",
    "    if xInfo:\n",
    "        conv['n'] = int(xInfo.group('n'))\n",
    "        conv['c'] = int(xInfo.group('c'))\n",
    "        conv['h'] = int(xInfo.group('h'))\n",
    "        conv['w'] = int(xInfo.group('w'))\n",
    "    else:\n",
    "        print(\"ERROR: Input dimensions not found at expected spot for block:{}\".format(i+1))\n",
    "        conv['n'] = conv['c'] = conv['h'] = conv['w'] = -1\n",
    "        \n",
    "    ## Filter Information\n",
    "    wDescLine = [x for x in range(len(lines)) if 'wDesc' in lines[x]]\n",
    "    assert len(wDescLine) == 1, \"multiple 'wDesc' in block:{}\".format(i+1)\n",
    "    wDescLine = wDescLine[0]\n",
    "    \n",
    "    wPattern = re.compile(r'i!\\s+dimA: type=int; val=\\[(?P<k>\\d+),(?P<i_prime>\\d+),(?P<f_h>\\d+),(?P<f_w>\\d+)\\];')\n",
    "    # NOTE: filter information is in the 4th line after wDesc key.\n",
    "    wInfo = wPattern.match(lines[wDescLine + 4])\n",
    "    if wInfo:\n",
    "#         conv['inDim'] = int(wInfo.group('i_prime')) # this is actually (inDim/groupCount)\n",
    "        conv['k'] = int(wInfo.group('k'))\n",
    "        conv['f_h'] = int(wInfo.group('f_h'))\n",
    "        conv['f_w'] = int(wInfo.group('f_w'))\n",
    "    else:\n",
    "        print(\"ERROR: Filter dimensions not found at expected spot for block:{}.\".format(i+1))\n",
    "        conv['k'] = conv['f_h'] = conv['f_w'] = -1\n",
    "    \n",
    "    # Convolution Info\n",
    "    convDescLine = [x for x in range(len(lines)) if 'convDesc' in lines[x]]\n",
    "    assert len(convDescLine) == 1, \"multiple 'convDesc' in block:{}\".format(i+1)\n",
    "    convDescLine = convDescLine[0]\n",
    "    \n",
    "    # Padding\n",
    "    padPattern = re.compile(r'i!\\s+padA: type=int; val=\\[(?P<pad_h>\\d+),(?P<pad_w>\\d+)\\];')\n",
    "    # NOTE: padding information is in the 6th line after convDesc key.\n",
    "    padInfo = padPattern.match(lines[convDescLine + 6])\n",
    "    if padInfo:\n",
    "        conv['pad_h'] = int(padInfo.group('pad_h'))\n",
    "        conv['pad_w'] = int(padInfo.group('pad_w'))\n",
    "    else:\n",
    "        print(\"ERROR: Padding dimensions not found at expected spot for block:{}.\".format(i+1))\n",
    "        conv['pad_h'] = conv['pad_w'] = -1\n",
    "    \n",
    "    # Stride\n",
    "    stridePattern = re.compile(r'i!\\s+strideA: type=int; val=\\[(?P<stride_h>\\d+),(?P<stride_w>\\d+)\\];')\n",
    "    # NOTE: stride info is in the 7th line after convDesc key.\n",
    "    strideInfo = stridePattern.match(lines[convDescLine + 7])\n",
    "    if strideInfo:\n",
    "        conv['stride_h'] = int(strideInfo.group('stride_h'))\n",
    "        conv['stride_w'] = int(strideInfo.group('stride_w'))\n",
    "    else:\n",
    "        print(\"ERROR: Padding dimensions not found at expected spot for block:{}.\".format(i+1))\n",
    "        conv['stride_h'] = conv['stride_w'] = -1\n",
    "    \n",
    "    # Dilation\n",
    "    dilPattern = re.compile(r'i!\\s+dilationA: type=int; val=\\[(?P<dil_h>\\d+),(?P<dil_w>\\d+)\\];')\n",
    "    # NOTE: dilation info is in the 8th line after convDesc key.\n",
    "    dilInfo = dilPattern.match(lines[convDescLine + 8])\n",
    "    if dilInfo:\n",
    "        conv['dil_h'] = int(dilInfo.group('dil_h'))\n",
    "        conv['dil_w'] = int(dilInfo.group('dil_w'))\n",
    "    else:\n",
    "        print(\"ERROR: Dilation dimensions not found at expected spot for block:{}.\".format(i+1))\n",
    "        conv['dil_h'] = conv['dil_w'] = -1\n",
    "    \n",
    "    # Group Count\n",
    "    groupPattern = re.compile(r'i!\\s+groupCount: type=int; val=(?P<groupCount>\\d+);')\n",
    "    # NOTE: groupcount info is in the 9th line after convDesc key.\n",
    "    groupInfo = groupPattern.match(lines[convDescLine + 9])\n",
    "    if groupInfo:\n",
    "        conv['group'] = int(groupInfo.group('groupCount'))\n",
    "    else:\n",
    "        print(\"ERROR: Dilation dimensions not found at expected spot for block:{}.\".format(i+1))\n",
    "        conv['group'] = -1\n",
    "    \n",
    "    ## ALGORITHM INFO\n",
    "    algoLine = [x for x in range(len(lines)) if 'algo' in lines[x]]\n",
    "    assert len(algoLine) == 1, \"multiple 'algo' in block:{}\".format(i+1)\n",
    "    algoLine = algoLine[0]\n",
    "    algoPattern = re.compile(r'i!\\s+algo: type=cudnnConvolutionFwdAlgo_t; val=(?P<algo>[a-zA-Z0-9_ ()]+);')\n",
    "    algoInfo = algoPattern.match(lines[algoLine])\n",
    "    if algoInfo:\n",
    "        conv['fwd_algo'] = algoInfo.group('algo')\n",
    "    else:\n",
    "        print(\"ERROR: Algorithm information not found at expected spot for block:{}.\".format(i+1))\n",
    "        conv['fwd_algo'] = \"UNKNOWN\"\n",
    "    # Add to list\n",
    "    convsInfo.append(conv)\n",
    "\n",
    "# for item in convsInfo:\n",
    "#     print(item)\n",
    "print(len(convsInfo))"
   ]
  },
  {
   "cell_type": "code",
   "execution_count": 22,
   "metadata": {},
   "outputs": [
    {
     "name": "stdout",
     "output_type": "stream",
     "text": [
      "104\n",
      "24\n",
      "    n      c    h    w      k  f_h  f_w  pad_h  pad_w  stride_h  stride_w  \\\n",
      "0   4      3  320  320     64    7    7      3      3         2         2   \n",
      "1   4     64   80   80   1536    1    1      0      0         1         1   \n",
      "2   4   1536   80   80   1536    3    3      1      1         1         1   \n",
      "3   4   1536   80   80    256    1    1      0      0         1         1   \n",
      "4   4     64   80   80    256    1    1      0      0         1         1   \n",
      "5   4    256   80   80   1536    1    1      0      0         1         1   \n",
      "11  4    256   80   80   3072    1    1      0      0         1         1   \n",
      "12  4   3072   80   80   3072    3    3      1      1         2         2   \n",
      "13  4   3072   40   40    512    1    1      0      0         1         1   \n",
      "14  4    256   80   80    512    1    1      0      0         2         2   \n",
      "15  4    512   40   40   3072    1    1      0      0         1         1   \n",
      "16  4   3072   40   40   3072    3    3      1      1         1         1   \n",
      "24  4    512   40   40   6144    1    1      0      0         1         1   \n",
      "25  4   6144   40   40   6144    3    3      1      1         2         2   \n",
      "26  4   6144   20   20   1024    1    1      0      0         1         1   \n",
      "27  4    512   40   40   1024    1    1      0      0         2         2   \n",
      "28  4   1024   20   20   6144    1    1      0      0         1         1   \n",
      "29  4   6144   20   20   6144    3    3      1      1         1         1   \n",
      "94  4   1024   20   20  12288    1    1      0      0         1         1   \n",
      "95  4  12288   20   20  12288    3    3      1      1         2         2   \n",
      "96  4  12288   10   10   2048    1    1      0      0         1         1   \n",
      "97  4   1024   20   20   2048    1    1      0      0         2         2   \n",
      "98  4   2048   10   10  12288    1    1      0      0         1         1   \n",
      "99  4  12288   10   10  12288    3    3      1      1         1         1   \n",
      "\n",
      "    dil_h  dil_w  group                                           fwd_algo  \n",
      "0       1      1      1  CUDNN_CONVOLUTION_FWD_ALGO_IMPLICIT_PRECOMP_GE...  \n",
      "1       1      1      1  CUDNN_CONVOLUTION_FWD_ALGO_IMPLICIT_PRECOMP_GE...  \n",
      "2       1      1     32       CUDNN_CONVOLUTION_FWD_ALGO_IMPLICIT_GEMM (0)  \n",
      "3       1      1      1  CUDNN_CONVOLUTION_FWD_ALGO_IMPLICIT_PRECOMP_GE...  \n",
      "4       1      1      1  CUDNN_CONVOLUTION_FWD_ALGO_IMPLICIT_PRECOMP_GE...  \n",
      "5       1      1      1  CUDNN_CONVOLUTION_FWD_ALGO_IMPLICIT_PRECOMP_GE...  \n",
      "11      1      1      1  CUDNN_CONVOLUTION_FWD_ALGO_IMPLICIT_PRECOMP_GE...  \n",
      "12      1      1     32       CUDNN_CONVOLUTION_FWD_ALGO_IMPLICIT_GEMM (0)  \n",
      "13      1      1      1  CUDNN_CONVOLUTION_FWD_ALGO_IMPLICIT_PRECOMP_GE...  \n",
      "14      1      1      1  CUDNN_CONVOLUTION_FWD_ALGO_IMPLICIT_PRECOMP_GE...  \n",
      "15      1      1      1  CUDNN_CONVOLUTION_FWD_ALGO_IMPLICIT_PRECOMP_GE...  \n",
      "16      1      1     32       CUDNN_CONVOLUTION_FWD_ALGO_IMPLICIT_GEMM (0)  \n",
      "24      1      1      1  CUDNN_CONVOLUTION_FWD_ALGO_IMPLICIT_PRECOMP_GE...  \n",
      "25      1      1     32       CUDNN_CONVOLUTION_FWD_ALGO_IMPLICIT_GEMM (0)  \n",
      "26      1      1      1       CUDNN_CONVOLUTION_FWD_ALGO_IMPLICIT_GEMM (0)  \n",
      "27      1      1      1  CUDNN_CONVOLUTION_FWD_ALGO_IMPLICIT_PRECOMP_GE...  \n",
      "28      1      1      1  CUDNN_CONVOLUTION_FWD_ALGO_IMPLICIT_PRECOMP_GE...  \n",
      "29      1      1     32       CUDNN_CONVOLUTION_FWD_ALGO_IMPLICIT_GEMM (0)  \n",
      "94      1      1      1  CUDNN_CONVOLUTION_FWD_ALGO_IMPLICIT_PRECOMP_GE...  \n",
      "95      1      1     32       CUDNN_CONVOLUTION_FWD_ALGO_IMPLICIT_GEMM (0)  \n",
      "96      1      1      1       CUDNN_CONVOLUTION_FWD_ALGO_IMPLICIT_GEMM (0)  \n",
      "97      1      1      1       CUDNN_CONVOLUTION_FWD_ALGO_IMPLICIT_GEMM (0)  \n",
      "98      1      1      1       CUDNN_CONVOLUTION_FWD_ALGO_IMPLICIT_GEMM (0)  \n",
      "99      1      1     32       CUDNN_CONVOLUTION_FWD_ALGO_IMPLICIT_GEMM (0)  \n"
     ]
    }
   ],
   "source": [
    "import pandas as pd\n",
    "df = pd.DataFrame(convsInfo)\n",
    "print(len(df))\n",
    "unique_df = df.drop_duplicates()\n",
    "print(len(unique_df))\n",
    "# print(unique_df)"
   ]
  },
  {
   "cell_type": "code",
   "execution_count": 10,
   "metadata": {},
   "outputs": [],
   "source": [
    "# print(df)\n",
    "distinctConv = unique_df.apply(lambda item: \"std::make_tuple({},{},{},{},{},{},{},{},{},{},{},{})\".format(item['w'], item['h'], item['c'], item['n'],\n",
    "                                                                           item['k'], item['f_w'], item['f_h'], item['pad_w'],\n",
    "                                                                           item['pad_h'], item['stride_w'], item['stride_h'],\n",
    "                                                                           item['group']), axis=1)"
   ]
  },
  {
   "cell_type": "code",
   "execution_count": 11,
   "metadata": {
    "scrolled": true
   },
   "outputs": [
    {
     "name": "stdout",
     "output_type": "stream",
     "text": [
      "std::make_tuple(320,320,3,4,64,7,7,3,3,2,2,1),\n",
      "std::make_tuple(80,80,64,4,1536,1,1,0,0,1,1,1),\n",
      "std::make_tuple(80,80,1536,4,1536,3,3,1,1,1,1,32),\n",
      "std::make_tuple(80,80,1536,4,256,1,1,0,0,1,1,1),\n",
      "std::make_tuple(80,80,64,4,256,1,1,0,0,1,1,1),\n",
      "std::make_tuple(80,80,256,4,1536,1,1,0,0,1,1,1),\n",
      "std::make_tuple(80,80,256,4,3072,1,1,0,0,1,1,1),\n",
      "std::make_tuple(80,80,3072,4,3072,3,3,1,1,2,2,32),\n",
      "std::make_tuple(40,40,3072,4,512,1,1,0,0,1,1,1),\n",
      "std::make_tuple(80,80,256,4,512,1,1,0,0,2,2,1),\n",
      "std::make_tuple(40,40,512,4,3072,1,1,0,0,1,1,1),\n",
      "std::make_tuple(40,40,3072,4,3072,3,3,1,1,1,1,32),\n",
      "std::make_tuple(40,40,512,4,6144,1,1,0,0,1,1,1),\n",
      "std::make_tuple(40,40,6144,4,6144,3,3,1,1,2,2,32),\n",
      "std::make_tuple(20,20,6144,4,1024,1,1,0,0,1,1,1),\n",
      "std::make_tuple(40,40,512,4,1024,1,1,0,0,2,2,1),\n",
      "std::make_tuple(20,20,1024,4,6144,1,1,0,0,1,1,1),\n",
      "std::make_tuple(20,20,6144,4,6144,3,3,1,1,1,1,32),\n",
      "std::make_tuple(20,20,1024,4,12288,1,1,0,0,1,1,1),\n",
      "std::make_tuple(20,20,12288,4,12288,3,3,1,1,2,2,32),\n",
      "std::make_tuple(10,10,12288,4,2048,1,1,0,0,1,1,1),\n",
      "std::make_tuple(20,20,1024,4,2048,1,1,0,0,2,2,1),\n",
      "std::make_tuple(10,10,2048,4,12288,1,1,0,0,1,1,1),\n",
      "std::make_tuple(10,10,12288,4,12288,3,3,1,1,1,1,32)\n"
     ]
    }
   ],
   "source": [
    "# arglist = []\n",
    "# for item in df:\n",
    "#     string = \"std::make_tuple({},{},{},{},{},{},{},{},{},{},{},{})\".format(item['w'], item['h'], item['c'], item['n'],\n",
    "#                                                                            item['k'], item['f_w'], item['f_h'], item['pad_w'],\n",
    "#                                                                            item['pad_h'], item['stride_w'], item['stride_h'],\n",
    "#                                                                            item['groupCount'])\n",
    "#     arglist.append(string)\n",
    " \n",
    "allconvstr = \",\\n\".join(distinctConv)\n",
    "print(allconvstr)"
   ]
  },
  {
   "cell_type": "code",
   "execution_count": 15,
   "metadata": {},
   "outputs": [],
   "source": [
    "df.groupby(df.columns.tolist(),as_index=False).size()"
   ]
  },
  {
   "cell_type": "code",
   "execution_count": 23,
   "metadata": {},
   "outputs": [],
   "source": [
    "# Save dataframe - to be used in parseDeepBench.ipynb\n",
    "df.to_pickle('/workspace/resnext101_32x48d-archinfo.pkl')"
   ]
  },
  {
   "cell_type": "code",
   "execution_count": null,
   "metadata": {},
   "outputs": [],
   "source": []
  }
 ],
 "metadata": {
  "kernelspec": {
   "display_name": "Python 3",
   "language": "python",
   "name": "python3"
  },
  "language_info": {
   "codemirror_mode": {
    "name": "ipython",
    "version": 3
   },
   "file_extension": ".py",
   "mimetype": "text/x-python",
   "name": "python",
   "nbconvert_exporter": "python",
   "pygments_lexer": "ipython3",
   "version": "3.6.8"
  }
 },
 "nbformat": 4,
 "nbformat_minor": 2
}
