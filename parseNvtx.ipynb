{
 "cells": [
  {
   "cell_type": "code",
   "execution_count": null,
   "metadata": {},
   "outputs": [],
   "source": [
    "from collections import namedtuple\n",
    "import numpy as np\n",
    "import pandas as pd\n",
    "import torch"
   ]
  },
  {
   "cell_type": "code",
   "execution_count": null,
   "metadata": {},
   "outputs": [],
   "source": [
    "pd.options.display.max_colwidth = 200"
   ]
  },
  {
   "cell_type": "code",
   "execution_count": null,
   "metadata": {
    "scrolled": true
   },
   "outputs": [],
   "source": [
    "file = '/workspace/DeepLearningMisc/resnet152_b80-nvtx.csv'\n",
    "initdf = pd.read_csv(file, skiprows=5,\n",
    "                 names=['start','duration','gridX','gridY','gridZ','blockX','blockY','blockZ',\n",
    "                        'registersPerThread','staticSMem','dynamicSMem','size','throughput',\n",
    "                        'srcMemType','dstMemType','device','context','stream','name','corrid'])\n",
    "# staticSMem - KB, dynamicSMem - KB, size - MB, throughput - GB/s\n",
    "# print(initdf.shape)\n",
    "initdf.drop(['gridX','gridY','gridZ','blockX','blockY','blockZ','srcMemType','dstMemType','device'], axis=1, inplace=True)\n",
    "\n",
    "# demangling the name\n",
    "initdf['name'] = initdf['name'].apply(torch._C._demangle)\n",
    "\n",
    "startprof = initdf.index[initdf['name'].str.contains(\"\\[Marker\\] __start_profile\")].tolist()\n",
    "assert len(startprof) == 1\n",
    "stopprof = initdf.index[initdf['name'].str.contains(\"\\[Marker\\] __stop_profile\")].tolist()\n",
    "assert len(stopprof) == 1\n",
    "initdf = initdf.loc[startprof[0]:stopprof[0], :] \n",
    "# print(initdf.shape)\n",
    "\n",
    "df = initdf.dropna(subset=['registersPerThread','staticSMem','dynamicSMem','size','throughput'], how='all')\n",
    "# print(df.shape)\n",
    "# display(df.head())"
   ]
  },
  {
   "cell_type": "markdown",
   "metadata": {},
   "source": [
    "## Working with markers"
   ]
  },
  {
   "cell_type": "code",
   "execution_count": null,
   "metadata": {},
   "outputs": [],
   "source": [
    "#contains markers and Cuda Launch Kernels\n",
    "markers = initdf[(initdf['name'].str.contains(\"\\[Range start\\]\")) | (initdf['name'].str.contains(\"\\[Range end\\]\")) | (initdf['name'].str.contains(\"Marker\")) | (initdf['name'] == \"cudaLaunchKernel\")]\n",
    "# print(markers.shape)\n",
    "# display(markers.head(50))"
   ]
  },
  {
   "cell_type": "code",
   "execution_count": null,
   "metadata": {},
   "outputs": [],
   "source": [
    "Marker = namedtuple('Marker', 'index name depth')\n",
    "# Op = namedtuple('Op', [])"
   ]
  },
  {
   "cell_type": "code",
   "execution_count": null,
   "metadata": {},
   "outputs": [],
   "source": [
    "stack = []\n",
    "opsToCorrid = {}  # marker operation index -> cuda launch kernel correlation id\n",
    "\n",
    "# # Helper dicts (not essential)\n",
    "# opsIndexToName = {}  # marker operation index -> pytorch operation name\n",
    "\n",
    "for index, row in markers.iloc[1:-1].iterrows():\n",
    "    name = row['name']\n",
    "    if \"[Range start]\" in name:\n",
    "        marker = Marker(index, name.replace('[Range start] ', '').replace(' (Domain: <unnamed>)',''), len(stack))\n",
    "#         print(\"pushing into stack: {}, {}\".format(index, row['name']))\n",
    "        stack.append(marker)\n",
    "        opsToCorrid[marker] = []\n",
    "        \n",
    "    elif \"[Range end]\" in name:\n",
    "        marker = stack.pop()\n",
    "        top = markers.loc[marker.index, 'name']\n",
    "        match = top.replace(\"start\",\"end\")\n",
    "        if match != name:\n",
    "#             print(\"Popped from stack: {}, {}\".format(i, top))\n",
    "#         else:\n",
    "            print(\" *** does not match; this shouldn't happen ideally\")\n",
    "            stack.append(marker)\n",
    "        \n",
    "    elif name == \"cudaLaunchKernel\":\n",
    "#         print(\"cuda launch kernel: {}\".format(row['corrid']))\n",
    "        for marker in stack:\n",
    "            opsToCorrid[marker].append(row['corrid'])\n",
    "        if len(stack) == 0:\n",
    "            print(\" *** Kernel with corrid: {} doesn't lie between any markers\".format(row['corrid']))\n",
    "    else:\n",
    "        print(\" *** wrong option\")\n",
    "\n",
    "# print(len(opsToCorrid))"
   ]
  },
  {
   "cell_type": "code",
   "execution_count": null,
   "metadata": {},
   "outputs": [],
   "source": [
    "delkeys = []\n",
    "for i, corrids in opsToCorrid.items():\n",
    "    if len(corrids) == 0:\n",
    "        delkeys.append(i)\n",
    "\n",
    "for key in delkeys:\n",
    "    opsToCorrid.pop(key, None)\n",
    "    \n",
    "# print(len(opsToCorrid))"
   ]
  },
  {
   "cell_type": "code",
   "execution_count": null,
   "metadata": {
    "scrolled": true
   },
   "outputs": [],
   "source": [
    "allCorrids = []\n",
    "for i, corrids in opsToCorrid.items():\n",
    "    allCorrids.extend(corrids)\n",
    "print(len(allCorrids))\n",
    "\n",
    "allCorrids = set(allCorrids)\n",
    "# print(len(allCorrids))\n",
    "\n",
    "# print(opsToCorrid[7096])"
   ]
  },
  {
   "cell_type": "code",
   "execution_count": null,
   "metadata": {},
   "outputs": [],
   "source": [
    "corridToKernelIndex = {}  # cuda launch kernel correlation id -> index of kernel with corresponding correlation id\n",
    "# Helper dicts (not essential)\n",
    "kernelIndexToRow = {}\n",
    "\n",
    "for corrid in allCorrids:\n",
    "    rowIndex = df.index[df['corrid'] == int(corrid)].tolist()\n",
    "    assert len(rowIndex) == 1, \"multiple kernels with same corrid\"\n",
    "    corridToKernelIndex[corrid] = rowIndex[0]\n",
    "    \n",
    "    # can remove\n",
    "    kernelIndexToRow[rowIndex[0]] = df.loc[rowIndex[0]]\n",
    "# print(len(corridToKernelIndex))"
   ]
  },
  {
   "cell_type": "code",
   "execution_count": null,
   "metadata": {
    "scrolled": true
   },
   "outputs": [],
   "source": [
    "opsToKernelIndex = {}  # marker operation index -> index of corresponding kernel call\n",
    "for opIndex, corrids in opsToCorrid.items():\n",
    "    opsToKernelIndex[opIndex] = []\n",
    "    for corrid in corrids:\n",
    "        opsToKernelIndex[opIndex].append(corridToKernelIndex[corrid])\n",
    "\n",
    "print(len(opsToKernelIndex))\n",
    "# print(opsToKernelIndex)  # add 6 to indices to get line numbers in csv"
   ]
  },
  {
   "cell_type": "code",
   "execution_count": null,
   "metadata": {},
   "outputs": [],
   "source": [
    "mappingdf = pd.DataFrame(list([marker.name, \n",
    "                               marker.depth, \n",
    "                               [kernelIndexToRow[kid]['name']+\"[\"+str(kernelIndexToRow[kid]['stream'])+\"]\" for kid in kids], \n",
    "                               len(kids),\n",
    "                               kernelIndexToRow[kids[0]]['start'],\n",
    "                               sum([kernelIndexToRow[kid]['duration'] for kid in sorted(kids)])\n",
    "                              ] for marker,kids in opsToKernelIndex.items()), \n",
    "                         columns=['pyName', 'depth', 'kernelNames', 'numKernels', 'startTime', 'sumDuration'])\n",
    "# print(mappingdf.shape)\n",
    "# display(mappingdf.head(50))\n",
    "mappingdf.to_csv('/workspace/logs/resnet152_b80-mapping.csv')"
   ]
  },
  {
   "cell_type": "code",
   "execution_count": null,
   "metadata": {
    "scrolled": true
   },
   "outputs": [],
   "source": [
    "topdf = mappingdf[mappingdf['depth']==0]\n",
    "# print(topdf.shape)\n",
    "# display(topdf.head())"
   ]
  },
  {
   "cell_type": "code",
   "execution_count": null,
   "metadata": {
    "scrolled": true
   },
   "outputs": [],
   "source": [
    "topdf['duration'] = topdf['startTime'].shift(-1, axis=0) - topdf['startTime']\n",
    "# print(topdf.shape)\n",
    "# display(topdf.head())\n",
    "topdf.to_csv('/workspace/logs/resnet152_b80-mapping-top.csv')"
   ]
  }
 ],
 "metadata": {
  "kernelspec": {
   "display_name": "Python 3",
   "language": "python",
   "name": "python3"
  },
  "language_info": {
   "codemirror_mode": {
    "name": "ipython",
    "version": 3
   },
   "file_extension": ".py",
   "mimetype": "text/x-python",
   "name": "python",
   "nbconvert_exporter": "python",
   "pygments_lexer": "ipython3",
   "version": "3.6.9"
  }
 },
 "nbformat": 4,
 "nbformat_minor": 2
}
