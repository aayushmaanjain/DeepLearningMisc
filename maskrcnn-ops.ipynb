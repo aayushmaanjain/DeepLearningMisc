{
 "cells": [
  {
   "cell_type": "code",
   "execution_count": null,
   "metadata": {},
   "outputs": [],
   "source": [
    "import re\n",
    "import pandas as pd"
   ]
  },
  {
   "cell_type": "code",
   "execution_count": null,
   "metadata": {},
   "outputs": [],
   "source": [
    "pat = re.compile(r'ROIAlign input shape: \\(torch.Size\\(\\[(\\d+), (\\d+), (\\d+), (\\d+)\\]\\), torch.Size\\(\\[(\\d+), (\\d+)\\]\\), '\n",
    "                 '(\\d+\\.\\d+), (\\d+), (\\d+), (\\d+), (\\w+)')\n",
    "\n",
    "inputsizes = []\n",
    "with open('/root/detectron2/roialign.txt', 'r') as file:\n",
    "    for line in file:\n",
    "        m = pat.match(line)\n",
    "        if m:\n",
    "            inputsizes.append(m.groups())\n",
    "        else:\n",
    "            print(\"ERROR:\", line)\n",
    "\n",
    "inputsizes = pd.DataFrame(inputsizes, columns=['n', 'c', 'h', 'w', 'roi_dimA', 'roi_dimB', 'scale', 'output_h', 'output_w', 'sampling_ratio', 'aligned'])\n",
    "display(inputsizes)"
   ]
  },
  {
   "cell_type": "code",
   "execution_count": null,
   "metadata": {},
   "outputs": [],
   "source": [
    "unique = inputsizes.groupby(inputsizes.columns.tolist()).size().reset_index(name='numRepeats')#.sort_values(by=['numRepeats'], ascending=False)\n",
    "display(unique)"
   ]
  },
  {
   "cell_type": "code",
   "execution_count": null,
   "metadata": {},
   "outputs": [],
   "source": [
    "unique.to_csv('/root/detectron2/maskrcnn-roialign-inputsizes.csv', index=False)"
   ]
  },
  {
   "cell_type": "code",
   "execution_count": null,
   "metadata": {},
   "outputs": [],
   "source": []
  },
  {
   "cell_type": "code",
   "execution_count": null,
   "metadata": {
    "scrolled": true
   },
   "outputs": [],
   "source": [
    "roi_amd = pd.read_csv(\"/root/detectron2/maskrcnn-roialign-result-rocm-norm.csv\")\n",
    "display(roi_amd)"
   ]
  },
  {
   "cell_type": "code",
   "execution_count": null,
   "metadata": {},
   "outputs": [],
   "source": [
    "roi_nv = pd.read_csv(\"/root/logs/nvidia/maskrcnn-roialign-result-cuda-norm.csv\")\n",
    "display(roi_nv)"
   ]
  },
  {
   "cell_type": "code",
   "execution_count": null,
   "metadata": {
    "scrolled": true
   },
   "outputs": [],
   "source": [
    "join_cols = [col for col in roi_amd.columns.tolist() if col not in ['fwd_time(ms)', 'bwd_time(ms)']]\n",
    "\n",
    "roi_compare = pd.merge(roi_nv, roi_amd, on=join_cols, suffixes=('_cuda', '_rocm'))\n",
    "display(roi_compare)"
   ]
  },
  {
   "cell_type": "code",
   "execution_count": null,
   "metadata": {
    "scrolled": false
   },
   "outputs": [],
   "source": [
    "roi_compare['fwd_ratio'] = roi_compare['fwd_time(ms)_rocm'] / roi_compare['fwd_time(ms)_cuda']\n",
    "roi_compare['bwd_ratio'] = roi_compare['bwd_time(ms)_rocm'] / roi_compare['bwd_time(ms)_cuda']\n",
    "display(roi_compare)"
   ]
  },
  {
   "cell_type": "code",
   "execution_count": null,
   "metadata": {},
   "outputs": [],
   "source": [
    "roi_compare[((roi_compare['fwd_ratio'] > 2) & (roi_compare['fwd_time(ms)_rocm'] - roi_compare['fwd_time(ms)_cuda'] > 10))]"
   ]
  },
  {
   "cell_type": "code",
   "execution_count": null,
   "metadata": {},
   "outputs": [],
   "source": [
    "roi_compare.to_csv('/root/detectron2/maskrcnn-roialign-compare-norm.csv', index=False)"
   ]
  },
  {
   "cell_type": "markdown",
   "metadata": {},
   "source": [
    "# NMS"
   ]
  },
  {
   "cell_type": "code",
   "execution_count": null,
   "metadata": {},
   "outputs": [],
   "source": [
    "nms_pat = re.compile(r'\\(torch.Size\\(\\[(\\d+), (\\d+)\\]\\), torch.Size\\(\\[(\\d+)\\]\\), torch.Size\\(\\[(\\d+)\\]\\), (\\d+\\.\\d+)')\n",
    "\n",
    "nms_input = []\n",
    "with open('/root/detectron2/nms.txt', 'r') as file:\n",
    "    for line in file:\n",
    "        m = nms_pat.match(line)\n",
    "        if m:\n",
    "            nms_input.append(m.groups())\n",
    "        else:\n",
    "            print(\"ERROR:\", line)\n",
    "\n",
    "nms_input = pd.DataFrame(nms_input, columns=['boxes_dimA', 'boxes_dimB', 'scores_dimA', 'lvl_dimA', 'threshold'])\n",
    "display(nms_input)"
   ]
  },
  {
   "cell_type": "code",
   "execution_count": null,
   "metadata": {},
   "outputs": [],
   "source": [
    "nms_unique = nms_input.groupby(nms_input.columns.tolist()).size().reset_index(name='numRepeats')#.sort_values(by=['numRepeats'], ascending=False)\n",
    "display(nms_unique)"
   ]
  },
  {
   "cell_type": "code",
   "execution_count": null,
   "metadata": {},
   "outputs": [],
   "source": [
    "nms_unique.to_csv('/root/detectron2/maskrcnn-nms-inputsizes-rocm.csv', index=False)"
   ]
  },
  {
   "cell_type": "code",
   "execution_count": null,
   "metadata": {},
   "outputs": [],
   "source": [
    "nms_amd = pd.read_csv(\"/root/detectron2/maskrcnn-nms-results-rocm-norm.csv\")\n",
    "display(nms_amd)"
   ]
  },
  {
   "cell_type": "code",
   "execution_count": null,
   "metadata": {},
   "outputs": [],
   "source": [
    "nms_nv = pd.read_csv(\"/root/logs/nvidia/maskrcnn-nms-results-cuda-norm.csv\")\n",
    "display(nms_nv)"
   ]
  },
  {
   "cell_type": "code",
   "execution_count": null,
   "metadata": {
    "scrolled": true
   },
   "outputs": [],
   "source": [
    "join_cols = [col for col in nms_amd.columns.tolist() if col not in ['fwd_time(ms)', 'bwd_time(ms)']]\n",
    "\n",
    "nms_compare = pd.merge(nms_nv, nms_amd, on=join_cols, suffixes=('_cuda', '_rocm'))\n",
    "display(nms_compare)"
   ]
  },
  {
   "cell_type": "code",
   "execution_count": null,
   "metadata": {},
   "outputs": [],
   "source": [
    "nms_compare['fwd_ratio'] = nms_compare['fwd_time(ms)_rocm'] / nms_compare['fwd_time(ms)_cuda']\n",
    "display(nms_compare)"
   ]
  },
  {
   "cell_type": "code",
   "execution_count": null,
   "metadata": {},
   "outputs": [],
   "source": [
    "nms_compare[nms_compare['fwd_ratio'] > 2]"
   ]
  },
  {
   "cell_type": "code",
   "execution_count": null,
   "metadata": {},
   "outputs": [],
   "source": [
    "nms_compare.to_csv('/root/detectron2/maskrcnn-nms-compare-norm.csv', index=False)"
   ]
  },
  {
   "cell_type": "code",
   "execution_count": null,
   "metadata": {},
   "outputs": [],
   "source": []
  }
 ],
 "metadata": {
  "kernelspec": {
   "display_name": "Python 3",
   "language": "python",
   "name": "python3"
  },
  "language_info": {
   "codemirror_mode": {
    "name": "ipython",
    "version": 3
   },
   "file_extension": ".py",
   "mimetype": "text/x-python",
   "name": "python",
   "nbconvert_exporter": "python",
   "pygments_lexer": "ipython3",
   "version": "3.6.9"
  }
 },
 "nbformat": 4,
 "nbformat_minor": 2
}
