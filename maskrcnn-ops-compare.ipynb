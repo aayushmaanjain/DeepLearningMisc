{
 "cells": [
  {
   "cell_type": "code",
   "execution_count": null,
   "metadata": {},
   "outputs": [],
   "source": [
    "import re\n",
    "import pandas as pd"
   ]
  },
  {
   "cell_type": "code",
   "execution_count": null,
   "metadata": {},
   "outputs": [],
   "source": [
    "mbatch = pd.read_csv('/root/logs/nvidia/resnet50v15-batch-4gpu-nv-norm.csv', index_col=0)\n",
    "display(mbatch)"
   ]
  },
  {
   "cell_type": "code",
   "execution_count": null,
   "metadata": {
    "scrolled": true
   },
   "outputs": [],
   "source": [
    "sbatch = pd.read_csv('/root/logs/nvidia/resnet50v15-batch-1gpu-nv-norm.csv', index_col=0)\n",
    "display(sbatch)"
   ]
  },
  {
   "cell_type": "code",
   "execution_count": null,
   "metadata": {},
   "outputs": [],
   "source": [
    "smod = sbatch.reset_index(level=0)\n",
    "# sbatch['index'] = sbatch.apply(mod_index)\n",
    "# smod.loc[smod['index'] >= 5, 'index'] = smod['index'] + 4\n",
    "# smod.loc[smod['index'] >= 245, 'index'] = smod['index'] + 2\n",
    "\n",
    "# handling new divs\n",
    "nccl_indices = mbatch.index[mbatch['pyName'].str.startswith(\"nccl\")].tolist()\n",
    "cat_indices = mbatch.index[mbatch['pyName'].str.startswith(\"cat\")].tolist()\n",
    "div_indices = [246, 271, 304, 354, 517, 596]\n",
    "other_indices = [245]\n",
    "# clone_indices = mbatch.index[mbatch['pyName'].str.startswith(\"clone\")].tolist()\n",
    "\n",
    "fix_indices = nccl_indices + cat_indices + div_indices + other_indices\n",
    "fix_indices.sort()\n",
    "for index in fix_indices:\n",
    "    smod.loc[smod['index'] >= index, 'index'] = smod['index'] + 1\n",
    " \n",
    "# smod.loc[smod['index'] >= 271, 'index'] = smod['index'] + 1\n",
    "# smod.loc[smod['index'] >= 304, 'index'] = smod['index'] + 1\n",
    "# smod.loc[smod['index'] >= 354, 'index'] = smod['index'] + 1\n",
    "# smod.loc[smod['index'] >= 517, 'index'] = smod['index'] + 1\n",
    "\n",
    "smod.set_index(\"index\", inplace=True, drop=True)\n",
    "display(smod)"
   ]
  },
  {
   "cell_type": "code",
   "execution_count": null,
   "metadata": {},
   "outputs": [],
   "source": [
    "# mbatch.index[mbatch['pyName'].str.startswith(\"nccl\")].tolist()\n",
    "# mbatch.index[mbatch['pyName'].str.startswith(\"cat\")].tolist()\n",
    "print(mbatch.index[mbatch['pyName'].str.startswith(\"clone\")].tolist())"
   ]
  },
  {
   "cell_type": "code",
   "execution_count": null,
   "metadata": {
    "scrolled": true
   },
   "outputs": [],
   "source": [
    "comparedf = pd.merge(smod, mbatch, how=\"outer\", left_index=True, right_index=True, suffixes=('_single', '_multi'))\n",
    "display(comparedf)"
   ]
  },
  {
   "cell_type": "code",
   "execution_count": null,
   "metadata": {},
   "outputs": [],
   "source": [
    "display(comparedf[['pyName_single', 'pyName_multi']].loc[1050:1100])"
   ]
  },
  {
   "cell_type": "code",
   "execution_count": null,
   "metadata": {},
   "outputs": [],
   "source": [
    "comparedf.to_csv('/root/logs/nvidia/resnet-nv-single-multi-compare-norm.csv')"
   ]
  },
  {
   "cell_type": "code",
   "execution_count": null,
   "metadata": {},
   "outputs": [],
   "source": []
  }
 ],
 "metadata": {
  "kernelspec": {
   "display_name": "Python 3",
   "language": "python",
   "name": "python3"
  },
  "language_info": {
   "codemirror_mode": {
    "name": "ipython",
    "version": 3
   },
   "file_extension": ".py",
   "mimetype": "text/x-python",
   "name": "python",
   "nbconvert_exporter": "python",
   "pygments_lexer": "ipython3",
   "version": "3.6.9"
  }
 },
 "nbformat": 4,
 "nbformat_minor": 2
}
