{
 "cells": [
  {
   "cell_type": "code",
   "execution_count": null,
   "metadata": {},
   "outputs": [],
   "source": [
    "import re\n",
    "import pandas as pd"
   ]
  },
  {
   "cell_type": "code",
   "execution_count": null,
   "metadata": {},
   "outputs": [],
   "source": [
    "pat = re.compile(r'ROIAlign input shape: \\(torch.Size\\(\\[(\\d+), (\\d+), (\\d+), (\\d+)\\]\\), torch.Size\\(\\[(\\d+), (\\d+)\\]\\), '\n",
    "                 '(\\d+\\.\\d+), (\\d+), (\\d+), (\\d+), (\\w+)')\n",
    "\n",
    "inputsizes = []\n",
    "with open('/root/detectron2/roialign.txt', 'r') as file:\n",
    "    for line in file:\n",
    "        m = pat.match(line)\n",
    "        if m:\n",
    "            inputsizes.append(m.groups())\n",
    "        else:\n",
    "            print(\"ERROR:\", line)\n",
    "\n",
    "inputsizes = pd.DataFrame(inputsizes, columns=['n', 'c', 'h', 'w', 'roi_dimA', 'roi_dimB', 'scale', 'output_h', 'output_w', 'sampling_ratio', 'aligned'])\n",
    "display(inputsizes)"
   ]
  },
  {
   "cell_type": "code",
   "execution_count": null,
   "metadata": {},
   "outputs": [],
   "source": [
    "unique = inputsizes.groupby(inputsizes.columns.tolist()).size().reset_index(name='numRepeats')#.sort_values(by=['numRepeats'], ascending=False)\n",
    "# inputsizes.columns.tolist()"
   ]
  },
  {
   "cell_type": "code",
   "execution_count": null,
   "metadata": {},
   "outputs": [],
   "source": [
    "unique.to_csv('/root/detectron2/maskrcnn-roialign-inputsizes.csv', index=False)"
   ]
  },
  {
   "cell_type": "markdown",
   "metadata": {},
   "source": [
    "# NMS"
   ]
  },
  {
   "cell_type": "code",
   "execution_count": null,
   "metadata": {},
   "outputs": [],
   "source": [
    "nms_pat = re.compile(r'\\(torch.Size\\(\\[(\\d+), (\\d+)\\]\\), torch.Size\\(\\[(\\d+)\\]\\), torch.Size\\(\\[(\\d+)\\]\\), (\\d+\\.\\d+)')\n",
    "\n",
    "nms_input = []\n",
    "with open('/root/detectron2/maskrcnn-nms-inputsizes.txt', 'r') as file:\n",
    "    for line in file:\n",
    "        m = nms_pat.match(line)\n",
    "        if m:\n",
    "            nms_input.append(m.groups())\n",
    "        else:\n",
    "            print(\"ERROR:\", line)\n",
    "\n",
    "nms_input = pd.DataFrame(nms_input, columns=['boxes_dimA', 'boxes_dimB', 'scores_dimA', 'lvl_dimA', 'threshold'])\n",
    "display(nms_input)"
   ]
  },
  {
   "cell_type": "code",
   "execution_count": null,
   "metadata": {},
   "outputs": [],
   "source": [
    "nms_unique = nms_input.groupby(nms_input.columns.tolist()).size().reset_index(name='numRepeats')#.sort_values(by=['numRepeats'], ascending=False)\n",
    "display(nms_unique)"
   ]
  },
  {
   "cell_type": "code",
   "execution_count": null,
   "metadata": {},
   "outputs": [],
   "source": [
    "nms_unique.to_csv('/root/detectron2/maskrcnn-nms-inputsizes.csv', index=False)"
   ]
  },
  {
   "cell_type": "code",
   "execution_count": null,
   "metadata": {},
   "outputs": [],
   "source": []
  }
 ],
 "metadata": {
  "kernelspec": {
   "display_name": "Python 3",
   "language": "python",
   "name": "python3"
  },
  "language_info": {
   "codemirror_mode": {
    "name": "ipython",
    "version": 3
   },
   "file_extension": ".py",
   "mimetype": "text/x-python",
   "name": "python",
   "nbconvert_exporter": "python",
   "pygments_lexer": "ipython3",
   "version": "3.6.9"
  }
 },
 "nbformat": 4,
 "nbformat_minor": 2
}
