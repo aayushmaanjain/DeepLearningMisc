{
 "cells": [
  {
   "cell_type": "code",
   "execution_count": null,
   "metadata": {},
   "outputs": [],
   "source": [
    "from collections import namedtuple\n",
    "import numpy as np\n",
    "import pandas as pd\n",
    "import torch\n",
    "import re"
   ]
  },
  {
   "cell_type": "code",
   "execution_count": null,
   "metadata": {},
   "outputs": [],
   "source": [
    "cudaFile = '/root/MLPerf-mGPU/image_classification/resnet50v15-batch-nv-1042s877m.csv'\n",
    "cudadf = pd.read_csv(cudaFile, header=0, index_col=0)\n",
    "display(cudadf)\n",
    "rocmFile = '/root/MLPerf-mGPU/image_classification/resnet50v15-batch-rocm30-1386s877m.csv'\n",
    "rocmdf = pd.read_csv(rocmFile, header=0, index_col=0)\n",
    "\n",
    "# CHECK SHAPE IS SAME\n",
    "#hack to fix mismatch in total number of rows\n",
    "rocmdf.reset_index(inplace=True)\n",
    "rocmdf['joinID'] = rocmdf['joinID'] + 1\n",
    "rocmdf.set_index('joinID', inplace=True)\n",
    "\n",
    "display(rocmdf)"
   ]
  },
  {
   "cell_type": "code",
   "execution_count": null,
   "metadata": {
    "scrolled": true
   },
   "outputs": [],
   "source": [
    "joindf = pd.merge(cudadf, rocmdf, left_index=True, right_index=True, suffixes=('_cuda', '_rocm'))\n",
    "display(joindf)"
   ]
  },
  {
   "cell_type": "code",
   "execution_count": null,
   "metadata": {
    "scrolled": true
   },
   "outputs": [],
   "source": [
    "# ops = joindf.groupby('pyName', as_index=False).size().to_frame()\n",
    "# ops.reset_index(inplace=True)\n",
    "# ops.rename(columns={0:'count'}, inplace=True)\n",
    "ops = joindf.groupby(['pyName', 'kernelNames_cuda', 'numKernels_cuda', 'kernelNames_rocm', 'numKernels_rocm'], as_index=False).agg({\n",
    "    'sumKernelDuration': ['count', 'mean'],\n",
    "    'duration_cuda': 'mean',\n",
    "    'kernelDuration': 'mean',\n",
    "    'duration_rocm': 'mean'\n",
    "})\n",
    "# print(ops.columns)\n",
    "ops.columns = pd.MultiIndex.from_tuples([('pytorch','pyName'), ('cuda','kernelNames'), ('cuda','numKernels'), ('rocm','kernelNames'), ('rocm','numKernels'), ('pytorch','numRepeats'), ('cuda','kernelDuration'), ('cuda','duration'), ('rocm','kernelDuration'), ('rocm','duration')])\n",
    "ops = ops[[('pytorch','pyName'),('pytorch','numRepeats'),('cuda','kernelNames'), ('cuda','numKernels'),('cuda','kernelDuration'), ('cuda','duration'),('rocm','kernelNames'), ('rocm','numKernels'),('rocm','kernelDuration'), ('rocm','duration')]]\n",
    "display(ops)\n",
    "# ops[ops['pyName'].str.startswith(\"conv2d\")]"
   ]
  },
  {
   "cell_type": "code",
   "execution_count": null,
   "metadata": {
    "scrolled": true
   },
   "outputs": [],
   "source": [
    "# joindf[joindf['pyName'].str.startswith(\"conv2d\")]['duration_rocm'].sum()\n",
    "ops[('rocm','repsDuration')] = ops[('rocm','duration')] * ops[('pytorch','numRepeats')]\n",
    "batchTime = ops[('rocm','repsDuration')].sum()\n",
    "print(batchTime)\n",
    "ops[('rocm','%BatchTime')] = (ops[('rocm','repsDuration')] / batchTime) * 100\n",
    "display(ops.sort_values(('rocm', '%BatchTime'), ascending=False).head(50))"
   ]
  },
  {
   "cell_type": "code",
   "execution_count": null,
   "metadata": {},
   "outputs": [],
   "source": [
    "ops[('improve', 'ratioKernelDuration')] = ops[('rocm', 'kernelDuration')] / ops[('cuda', 'kernelDuration')]\n",
    "ops[('improve', 'rationDuration')] = ops[('rocm', 'duration')] / ops[('cuda', 'duration')]\n",
    "ops[('improve', 'timeDiff')] = ops[('rocm', 'duration')] - ops[('cuda', 'duration')]\n",
    "ops[('improve', 'repsTimeDiff')] = ops[('improve', 'timeDiff')] * ops[('pytorch', 'numRepeats')]\n",
    "ops[('improve', '%BatchTime')] = (ops[('improve', 'repsTimeDiff')] / batchTime) * 100\n",
    "display(ops.sort_values(('improve', '%BatchTime'), ascending=False).head(50))"
   ]
  },
  {
   "cell_type": "code",
   "execution_count": null,
   "metadata": {},
   "outputs": [],
   "source": [
    "ops.to_csv('/root/MLPerf-mGPU/image_classification/resnet50v15-compare-cuda10_1-rocm3_0-norm-distinctOps.csv')"
   ]
  },
  {
   "cell_type": "code",
   "execution_count": null,
   "metadata": {},
   "outputs": [],
   "source": []
  }
 ],
 "metadata": {
  "kernelspec": {
   "display_name": "Python 3",
   "language": "python",
   "name": "python3"
  },
  "language_info": {
   "codemirror_mode": {
    "name": "ipython",
    "version": 3
   },
   "file_extension": ".py",
   "mimetype": "text/x-python",
   "name": "python",
   "nbconvert_exporter": "python",
   "pygments_lexer": "ipython3",
   "version": "3.6.9"
  }
 },
 "nbformat": 4,
 "nbformat_minor": 2
}
