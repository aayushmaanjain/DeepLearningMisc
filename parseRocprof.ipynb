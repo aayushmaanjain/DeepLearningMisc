{
 "cells": [
  {
   "cell_type": "code",
   "execution_count": null,
   "metadata": {},
   "outputs": [],
   "source": [
    "import numpy as np\n",
    "import pandas as pd\n",
    "import torch\n",
    "\n",
    "pd.options.display.max_colwidth = 100"
   ]
  },
  {
   "cell_type": "code",
   "execution_count": null,
   "metadata": {},
   "outputs": [],
   "source": [
    "file = '/root/detectron2/maskrcnn-results-norm.csv'\n",
    "df = pd.read_csv(file, header=0, index_col=0)\n",
    "# display(df.head())b2\n",
    "# print(df.shape)\n",
    "df.drop(['gpu-id','queue-id','queue-index','tid','grd','wgr','scr','vgpr','sgpr','fbar','sig'], axis=1, inplace=True)\n",
    "# df.dropna(subset=['registersPerThread','staticSMem','dynamicSMem','size','throughput'], how='all', inplace=True)\n",
    "\n",
    "# demangling the name\n",
    "# df['KernelName'] = df['KernelName'].apply(torch._C._demangle)\n",
    "\n",
    "df['DurationUs'] = (df['EndNs'] - df['BeginNs']) / 1000.0\n",
    "print(df.shape)\n",
    "display(df.head(25))"
   ]
  },
  {
   "cell_type": "code",
   "execution_count": null,
   "metadata": {},
   "outputs": [],
   "source": [
    "# df['KernelName'].to_csv('/root/DeepLearningMisc/microbench/kernelnames-results.csv', index = False)"
   ]
  },
  {
   "cell_type": "code",
   "execution_count": null,
   "metadata": {
    "scrolled": true
   },
   "outputs": [],
   "source": [
    "print(df.dtypes)\n",
    "# print(df.tail(50))"
   ]
  },
  {
   "cell_type": "code",
   "execution_count": null,
   "metadata": {},
   "outputs": [],
   "source": [
    "df = df[~df['KernelName'].str.contains(\"hip_fill_n\")]\n",
    "df.reset_index(inplace=True, drop=True)\n",
    "print(df.shape)"
   ]
  },
  {
   "cell_type": "code",
   "execution_count": null,
   "metadata": {},
   "outputs": [],
   "source": [
    "# print(df[(df['size'] > 2.0) & (df['size'] < 2.5) & (df['name'] == '[CUDA memcpy HtoD]')])\n",
    "# accComputeIndices = df.index[df['KernelName'].str.contains(\"MaxValuePair\")].tolist()\n",
    "accComputeIndices = df.index[df['KernelName'].str.contains(\"gatherTopK\")].tolist()\n",
    "print(accComputeIndices)"
   ]
  },
  {
   "cell_type": "code",
   "execution_count": null,
   "metadata": {},
   "outputs": [],
   "source": [
    "batches = []\n",
    "batches.append(df.loc[:accComputeIndices[0]-1])\n",
    "for i in range(len(accComputeIndices) - 1):\n",
    "    batches.append(df.loc[accComputeIndices[i]+1:accComputeIndices[i+1]-1].reset_index(drop=True))\n",
    "\n",
    "for batch in batches:\n",
    "    print(batch.shape, (batch['EndNs'].max() - batch['BeginNs'].min())/1e3)"
   ]
  },
  {
   "cell_type": "code",
   "execution_count": null,
   "metadata": {},
   "outputs": [],
   "source": [
    "pivotBatch = pd.concat(batches[:5], axis=1, keys=['b1','b2','b3','b4','b5'])\n",
    "display()\n",
    "print(pivotBatch.shape)\n",
    "display(pivotBatch[[('b1','KernelName'), ('b2','KernelName'), ('b3','KernelName'), ('b4','KernelName'), ('b5','KernelName')]].head(50))"
   ]
  },
  {
   "cell_type": "code",
   "execution_count": null,
   "metadata": {
    "scrolled": false
   },
   "outputs": [],
   "source": [
    "# start would be 0 or accCompute+4\n",
    "start = accComputeIndices[3] + 1\n",
    "end = accComputeIndices[4] - 1\n",
    "b2df = df.loc[start:end,:]\n",
    "b2df.reset_index(inplace=True, drop=True)\n",
    "\n",
    "# b2df = b2df[~((b2df['name'] == '[CUDA memset]') | (b2df['name'] == '[CUDA memcpy DtoD]') | (b2df['name'] =='[CUDA memcpy DtoH]'))]\n",
    "print(b2df.shape)\n",
    "display(b2df.head())\n",
    "display(b2df.tail())"
   ]
  },
  {
   "cell_type": "code",
   "execution_count": null,
   "metadata": {},
   "outputs": [],
   "source": [
    "b2df = batches[3]\n",
    "display(b2df)"
   ]
  },
  {
   "cell_type": "code",
   "execution_count": null,
   "metadata": {
    "scrolled": true
   },
   "outputs": [],
   "source": [
    "# input df should be a dataframe containing entries corresponding to a batch\n",
    "def isNativeRow(name):\n",
    "    \"\"\"\n",
    "    Returns True if a pytorch native operation is performed based on string matching with name attribute.\n",
    "    \"\"\"\n",
    "#     return (\"at::native::\") in name and (\"fill_kernel_cuda\" not in name)\n",
    "    return ((\"at::native::\") in name and (\"fill_kernel_cuda\" not in name)) or (\"BatchNorm\" in name) \\\n",
    "           or (\"CatArrayBatchedCopy\" in name) or (\"kernelPointwiseApply3\" in name)\n",
    "\n",
    "def isFixIndexJoinID(index):\n",
    "    \"\"\"Return True if index in list. We want to increment joinID by 1 for these to sync with pytorch trace\"\"\"\n",
    "#     return False # disable\n",
    "#     ## Resnet__\n",
    "#     indices = [7717,7759,7824,8220, # convolutions immediately following batchnorm'''\n",
    "#                8264,8265, # softmax fwd, loss\n",
    "#                8582,8583,8584] # loss bwd, softmax bwd, conv bwd\n",
    "\n",
    "#     ## Resnext101_32x8d forward\n",
    "#     indices = [18, 70, 141, 537, # convolutions immediately following batchnorm\n",
    "#                581] # softmax fwd\n",
    "#     ## Resnext101_32x8d fp16 forward\n",
    "#     indices = [16, 121, 243, 699, #convolutions immediately following batchnorm\n",
    "#                743] # softmax fwd\n",
    "\n",
    "#     ## Resnext101_32x4d forward\n",
    "#     indices = [16, 62, 127, 523, # convolutions immediately following batchnorm\n",
    "#                567] # softmax fwd\n",
    "#     return index in indices\n",
    "#     ## Resnext101_32x4 fp16, Resnext101_64x4d fp16\n",
    "#     # mi50\n",
    "#     indices =[16, 121, 241, 609, 652, 653, 654, 656, 657, 658] # substract 652\n",
    "#     # mi100\n",
    "#     indices = [16, 121, 243, 699, 742, 743, 744, 746, 747, 748] # substract 742\n",
    "#     return index in indices\n",
    "\n",
    "#     ## Resnext101_64x4d forward\n",
    "#     indices = [18, 70, 204, 695, # convolutions immediately following batchnorm\n",
    "#                739] # softmax fwd\n",
    "#     return index in indices\n",
    "\n",
    "#     ## Resnet50v1.5 fwd+bwd\n",
    "#     indices = [19, 61, 117, 204, 248, 249, 268]               \n",
    "#     return index in indices\n",
    "\n",
    "    ## MaskRCNN detectron2\n",
    "    indices = [13, 760, 822]\n",
    "    return index in indices\n",
    "\n",
    "def addJoinIDs(df):\n",
    "    df['joinID'] = np.nan\n",
    "    joinID_loc = df.columns.get_loc('joinID')\n",
    "    joinid = 3\n",
    "    \n",
    "    isCurNative = False\n",
    "    wasPrevNative = False\n",
    "    \n",
    "    for index, row in df.iterrows():\n",
    "        # do something\n",
    "        if (\"hip_fill_n\" in row['KernelName']) or (\"fill_kernel_cuda\" in row['KernelName']) or (\"arange_cuda_out\" in row['KernelName']):\n",
    "            continue\n",
    "            \n",
    "        isCurNative = isNativeRow(row['KernelName'])\n",
    "        if isCurNative or wasPrevNative or isFixIndexJoinID(index):\n",
    "            if index == 13:\n",
    "                joinid += 6\n",
    "            elif index in [760, 762, 822]:\n",
    "                joinid += 2\n",
    "            elif \"index_put_kernel_impl\" in row['KernelName']:\n",
    "                joinid += 0\n",
    "            else:\n",
    "                joinid +=1\n",
    "        \n",
    "        df.loc[index, 'joinID'] = joinid\n",
    "        \n",
    "#         wasPrevNative = isCurNative and (\"copy_kernel_impl\" not in row['KernelName'])\n",
    "        wasPrevNative = (isCurNative and (\"copy_kernel_impl\" not in row['KernelName'])) or (\"OpTensorFwdBias\" in row['KernelName'])\n",
    "        \n",
    "#     df['joinID'] = df['joinID'].astype(int)\n",
    "\n",
    "addJoinIDs(b2df)\n",
    "\n",
    "display(b2df)"
   ]
  },
  {
   "cell_type": "code",
   "execution_count": null,
   "metadata": {
    "scrolled": true
   },
   "outputs": [],
   "source": [
    "b2df.loc[0:50]"
   ]
  },
  {
   "cell_type": "code",
   "execution_count": null,
   "metadata": {},
   "outputs": [],
   "source": [
    "b2df.to_csv('/root/logs/maskrcnn-amd-fix.csv')"
   ]
  },
  {
   "cell_type": "code",
   "execution_count": null,
   "metadata": {},
   "outputs": [],
   "source": [
    "till = b2df.index[b2df['KernelName'].str.contains(\"softmax_warp_forward\")].tolist()\n",
    "assert len(till)==1, \"Error\"\n",
    "fwd = b2df.loc[:till[0]]\n",
    "# display(fwd.loc[:50, ['KernelName', 'joinID']])\n",
    "display(fwd)\n",
    "# fwd.to_csv('/root/logs/resnext101_32x8d-fwd.csv')"
   ]
  },
  {
   "cell_type": "code",
   "execution_count": null,
   "metadata": {
    "scrolled": false
   },
   "outputs": [],
   "source": [
    "# b2df = fwd # hack for aggregating just for fwd pass\n",
    "b2dfJoin = b2df.dropna(subset=['joinID'])\n",
    "b2dfJoin['joinID'] = b2dfJoin['joinID'].astype(int)\n",
    "print(b2dfJoin.shape)\n",
    "\n",
    "def concatKernelNames(x):\n",
    "    return \"[%s]\" % ', '.join(x)\n",
    "concatKernelNames.__name__ = 'Kernels'\n",
    "\n",
    "b2agg = b2dfJoin.groupby('joinID').agg({'KernelName': [concatKernelNames, 'count'],\n",
    "                                    'BeginNs': 'min',\n",
    "                                    'DurationUs': 'sum'})\n",
    "# 'EndNs': 'max'\n",
    "b2agg.columns = pd.Index(['kernelNames','numKernels','minBeginNs','kernelDuration'])\n",
    "b2agg['duration'] = (b2agg['minBeginNs'].shift(-1, axis=0) - b2agg['minBeginNs']) / 1000.0\n",
    "# b2agg['duration'] = (b2agg['maxEndNs'] - b2agg['minBeginNs']) / 1000.0\n",
    "\n",
    "# display(b2agg[b2agg['numKernels']>1])\n",
    "# print(len(b2agg))\n",
    "display(b2agg)"
   ]
  },
  {
   "cell_type": "code",
   "execution_count": null,
   "metadata": {},
   "outputs": [],
   "source": [
    "def kernelWithTime(group):\n",
    "    infoKernels = []\n",
    "    for kernel, end, start in zip(group['KernelName'], group['EndNs'], group['BeginNs']):\n",
    "        info = kernel + \"[\" + str((end - start)/1000) + \"]\"\n",
    "        infoKernels.append(info)\n",
    "    return infoKernels\n",
    "\n",
    "b2agg['kernelNames'] = b2dfJoin.groupby('joinID').apply(kernelWithTime)"
   ]
  },
  {
   "cell_type": "code",
   "execution_count": null,
   "metadata": {},
   "outputs": [],
   "source": [
    "display(b2agg)"
   ]
  },
  {
   "cell_type": "code",
   "execution_count": null,
   "metadata": {},
   "outputs": [],
   "source": [
    "b2agg.to_csv('/root/logs/resnext101_32x4d-fp16-batch-amd-1386s877m.csv')"
   ]
  },
  {
   "cell_type": "code",
   "execution_count": null,
   "metadata": {},
   "outputs": [],
   "source": []
  },
  {
   "cell_type": "code",
   "execution_count": null,
   "metadata": {},
   "outputs": [],
   "source": []
  }
 ],
 "metadata": {
  "kernelspec": {
   "display_name": "Python 3",
   "language": "python",
   "name": "python3"
  },
  "language_info": {
   "codemirror_mode": {
    "name": "ipython",
    "version": 3
   },
   "file_extension": ".py",
   "mimetype": "text/x-python",
   "name": "python",
   "nbconvert_exporter": "python",
   "pygments_lexer": "ipython3",
   "version": "3.6.9"
  }
 },
 "nbformat": 4,
 "nbformat_minor": 2
}
