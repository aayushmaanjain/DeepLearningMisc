{
 "cells": [
  {
   "cell_type": "markdown",
   "metadata": {},
   "source": [
    "## NVIDIA"
   ]
  },
  {
   "cell_type": "code",
   "execution_count": null,
   "metadata": {},
   "outputs": [],
   "source": [
    "import re\n",
    "\n",
    "filepath = \"/workspace/DeepBench/code/nvidia/db_nvidia_resnext.txt\"\n",
    "\n",
    "data = []\n",
    "with open(filepath, 'r') as file:\n",
    "    # this file is usually small => can read all at once\n",
    "    lines = file.readlines()\n",
    "#     headers = lines[3]\n",
    "    lines = lines[5:]\n",
    "    # w,h,c,n,k,f_w,f_h,pad_w,pad_h,stride_w,stride_h,group,precision,fwd_time(usec),bw_inputs_time(usec),bwd_params_time(usec),total_time(usec),fwd_algo,bwd_inputs_algo,bwd_params_algo\n",
    "    pattern = re.compile(r'\\s*(\\d+)\\s+(\\d+)\\s+(\\d+)\\s+(\\d+)\\s+(\\d+)\\s+(\\d+)\\s+(\\d+)\\s+(\\d+)\\s+(\\d+)\\s+(\\d+)\\s+(\\d+)\\s+(\\d+)\\s+(\\w+)\\s+(\\d+)\\s+(\\d+)\\s+(\\d+)\\s+(\\d+)\\s+(\\w+)\\s+(\\w+)\\s+(\\w+)\\s*')\n",
    "    for line in lines:\n",
    "        info = pattern.match(line)\n",
    "#         print(info.groups())\n",
    "        data.append(info.groups())"
   ]
  },
  {
   "cell_type": "code",
   "execution_count": null,
   "metadata": {},
   "outputs": [],
   "source": [
    "import pandas as pd\n",
    "\n",
    "times = pd.DataFrame(data, columns=[\"w\",\"h\",\"c\",\"n\",\"k\",\"f_w\",\"f_h\",\"pad_w\",\"pad_h\",\"stride_w\",\"stride_h\",\"group\",\"precision\", \\\n",
    "                                    \"fwd_time (usec)\",\"bwd_inputs_time (usec)\",\"bwd_params_time (usec)\",\"total_time (usec)\", \\\n",
    "                                    \"fwd_algo\",\"bwd_inputs_algo\",\"bwd_params_algo\"])\n",
    "\n",
    "numeric_cols = [col for col in times.columns.tolist() if col not in ['precision', 'fwd_algo', 'bwd_inputs_algo', 'bwd_params_algo']]\n",
    "times[numeric_cols] = times[numeric_cols].apply(pd.to_numeric)\n",
    "print(times)"
   ]
  },
  {
   "cell_type": "code",
   "execution_count": null,
   "metadata": {},
   "outputs": [],
   "source": [
    "# times_resnext101_32x48d = times.loc[times['n']==2]\n",
    "times_resnext101_32x8d = times.loc[times['n']==28]\n",
    "display(times_resnext101_32x8d)"
   ]
  },
  {
   "cell_type": "code",
   "execution_count": null,
   "metadata": {},
   "outputs": [],
   "source": [
    "# archinfo = pd.read_pickle('/workspace/resnext101_32x48d-archinfo.pkl')\n",
    "archinfo = pd.read_pickle('/workspace/resnext101_32x8d-archinfo.pkl')\n",
    "\n",
    "# archinfo['n'].replace(4, 2,inplace=True)\n",
    "print(archinfo)"
   ]
  },
  {
   "cell_type": "code",
   "execution_count": null,
   "metadata": {},
   "outputs": [],
   "source": [
    "# took me > 1 hour to write this line of code. fml\n",
    "diffconvs = archinfo.groupby(archinfo.columns.tolist(),as_index=False).size().reset_index().rename(columns={0:'repetitions'})\n",
    "if 'dil_h' in archinfo.columns:\n",
    "    diffconvs.drop(['dil_h'], axis=1, inplace=True)\n",
    "if 'dil_w' in archinfo.columns:\n",
    "    diffconvs.drop(['dil_w'], axis=1, inplace=True)\n",
    "if 'fwd_algo' in archinfo.columns:\n",
    "    diffconvs.drop(['fwd_algo'], axis=1, inplace=True)\n",
    "print(diffconvs)"
   ]
  },
  {
   "cell_type": "code",
   "execution_count": null,
   "metadata": {},
   "outputs": [],
   "source": [
    "joincols = [col for col in diffconvs.columns.tolist() if col != \"repetitions\"]\n",
    "model_total = pd.merge(times_resnext101_32x8d, diffconvs, on=joincols, how='inner')\n",
    "model_total[\"fwd_time_with_reps(usec)\"] = model_total[\"fwd_time (usec)\"] * model_total[\"repetitions\"]\n",
    "model_total[\"bwd_inputs_time_with_reps(usec)\"] = model_total[\"bwd_inputs_time (usec)\"] * model_total[\"repetitions\"]\n",
    "model_total[\"bwd_params_time_with_reps(usec)\"] = model_total[\"bwd_params_time (usec)\"] * model_total[\"repetitions\"]\n",
    "model_total[\"total_time_with_reps(usec)\"] = model_total[\"total_time (usec)\"] * model_total[\"repetitions\"]\n",
    "display(model_total)"
   ]
  },
  {
   "cell_type": "code",
   "execution_count": null,
   "metadata": {},
   "outputs": [],
   "source": [
    "large_time=model_total[model_total['Total Time with repetitions (msec)']>100]\n",
    "display(large_time)"
   ]
  },
  {
   "cell_type": "code",
   "execution_count": null,
   "metadata": {},
   "outputs": [],
   "source": [
    "model_total.to_csv('/workspace/DeepLearningMisc/db_nv_resnext101-32x8d_clk1072_total.csv')"
   ]
  },
  {
   "cell_type": "markdown",
   "metadata": {},
   "source": [
    "## AMD"
   ]
  },
  {
   "cell_type": "code",
   "execution_count": null,
   "metadata": {},
   "outputs": [],
   "source": [
    "import re\n",
    "\n",
    "filepath = \"/DeepBench/code/amd/db_amd_resnext.txt\"\n",
    "\n",
    "data = []\n",
    "with open(filepath, 'r') as file:\n",
    "    # this file is usually small => can read all at once\n",
    "    lines = file.readlines()\n",
    "#     headers = lines[3]\n",
    "    lines = lines[4:-1]\n",
    "    # w,h,c,n,k,f_w,f_h,pad_w,pad_h,stride_w,stride_h,group,fwd_time(usec),bw_inputs_time(usec),bwd_params_time(usec),total_time(usec),fwd_algo,bwd_inputs_algo,bwd_params_algo\n",
    "    pattern = re.compile(r'\\s*(\\d+)\\s+(\\d+)\\s+(\\d+)\\s+(\\d+)\\s+(\\d+)\\s+(\\d+)\\s+(\\d+)\\s+(\\d+)\\s+(\\d+)\\s+(\\d+)\\s+(\\d+)\\s+(\\d+)\\s+(\\d+)\\s+(\\d+)\\s+(\\d+)\\s+(\\d+)\\s+(\\w+)\\s+(\\w+)\\s+(\\w+)\\s*')\n",
    "    for line in lines:\n",
    "        info = pattern.match(line)\n",
    "#         print(info.groups())\n",
    "        data.append(info.groups())\n",
    "print(len(data))"
   ]
  },
  {
   "cell_type": "code",
   "execution_count": null,
   "metadata": {},
   "outputs": [],
   "source": [
    "import pandas as pd\n",
    "\n",
    "times = pd.DataFrame(data, columns=[\"w\",\"h\",\"c\",\"n\",\"k\",\"f_w\",\"f_h\",\"pad_w\",\"pad_h\",\"stride_w\",\"stride_h\",\"group\", \\\n",
    "                                    \"fwd_time (usec)\",\"bwd_inputs_time (usec)\",\"bwd_params_time (usec)\",\"total_time (usec)\", \\\n",
    "                                    \"fwd_algo\",\"bwd_inputs_algo\",\"bwd_params_algo\"])\n",
    "\n",
    "numeric_cols = [col for col in times.columns.tolist() if col not in ['fwd_algo', 'bwd_inputs_algo', 'bwd_params_algo']]\n",
    "times[numeric_cols] = times[numeric_cols].apply(pd.to_numeric)\n",
    "print(times)"
   ]
  },
  {
   "cell_type": "code",
   "execution_count": null,
   "metadata": {},
   "outputs": [],
   "source": [
    "# times_resnext101_32x48d = times.loc[times['n']==2]\n",
    "times_resnext101_32x8d = times.loc[times['n']==28]\n",
    "display(times_resnext101_32x8d)"
   ]
  },
  {
   "cell_type": "code",
   "execution_count": null,
   "metadata": {},
   "outputs": [],
   "source": [
    "# archinfo = pd.read_pickle('resnext101_32x48d-archinfo.pkl')\n",
    "archinfo = pd.read_pickle('resnext101_32x8d-archinfo.pkl')\n",
    "\n",
    "# archinfo['n'].replace(4, 2,inplace=True)\n",
    "print(archinfo)"
   ]
  },
  {
   "cell_type": "code",
   "execution_count": null,
   "metadata": {},
   "outputs": [],
   "source": [
    "# took me > 1 hour to write this line of code. fml\n",
    "diffconvs = archinfo.groupby(archinfo.columns.tolist(),as_index=False).size().reset_index().rename(columns={0:'repetitions'})\n",
    "if 'dil_h' in archinfo.columns:\n",
    "    diffconvs.drop(['dil_h'], axis=1, inplace=True)\n",
    "if 'dil_w' in archinfo.columns:\n",
    "    diffconvs.drop(['dil_w'], axis=1, inplace=True)\n",
    "if 'fwd_algo' in archinfo.columns:\n",
    "    diffconvs.drop(['fwd_algo'], axis=1, inplace=True)\n",
    "print(diffconvs)"
   ]
  },
  {
   "cell_type": "code",
   "execution_count": null,
   "metadata": {},
   "outputs": [],
   "source": [
    "joincols = [col for col in diffconvs.columns.tolist() if col != \"repetitions\"]\n",
    "model_total = pd.merge(times_resnext101_32x8d, diffconvs, on=joincols, how='inner')\n",
    "model_total[\"fwd_time_with_reps(usec)\"] = model_total[\"fwd_time (usec)\"] * model_total[\"repetitions\"]\n",
    "model_total[\"bwd_inputs_time_with_reps(usec)\"] = model_total[\"bwd_inputs_time (usec)\"] * model_total[\"repetitions\"]\n",
    "model_total[\"bwd_params_time_with_reps(usec)\"] = model_total[\"bwd_params_time (usec)\"] * model_total[\"repetitions\"]\n",
    "model_total[\"total_time_with_reps(usec)\"] = model_total[\"total_time (usec)\"] * model_total[\"repetitions\"]\n",
    "display(model_total)"
   ]
  },
  {
   "cell_type": "code",
   "execution_count": null,
   "metadata": {},
   "outputs": [],
   "source": [
    "model_total.to_csv('/DeepLearningMisc/db_amd_resnext101-32x8d_mclk877_total.csv')"
   ]
  },
  {
   "cell_type": "code",
   "execution_count": null,
   "metadata": {},
   "outputs": [],
   "source": []
  }
 ],
 "metadata": {
  "kernelspec": {
   "display_name": "Python 3",
   "language": "python",
   "name": "python3"
  },
  "language_info": {
   "codemirror_mode": {
    "name": "ipython",
    "version": 3
   },
   "file_extension": ".py",
   "mimetype": "text/x-python",
   "name": "python",
   "nbconvert_exporter": "python",
   "pygments_lexer": "ipython3",
   "version": "3.6.9"
  }
 },
 "nbformat": 4,
 "nbformat_minor": 2
}
